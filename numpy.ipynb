{
  "nbformat": 4,
  "nbformat_minor": 0,
  "metadata": {
    "colab": {
      "name": "numpy.ipynb",
      "provenance": [],
      "collapsed_sections": [],
      "authorship_tag": "ABX9TyOHmGtfRbViZvoX3i6kZ3qy",
      "include_colab_link": true
    },
    "kernelspec": {
      "name": "python3",
      "display_name": "Python 3"
    },
    "language_info": {
      "name": "python"
    }
  },
  "cells": [
    {
      "cell_type": "markdown",
      "metadata": {
        "id": "view-in-github",
        "colab_type": "text"
      },
      "source": [
        "<a href=\"https://colab.research.google.com/github/hokoro/Big-Data-Statistics-Analysis/blob/main/numpy.ipynb\" target=\"_parent\"><img src=\"https://colab.research.google.com/assets/colab-badge.svg\" alt=\"Open In Colab\"/></a>"
      ]
    },
    {
      "cell_type": "markdown",
      "source": [
        "#### 넘파이 기본 선언 "
      ],
      "metadata": {
        "id": "8eNjE0KO9kYB"
      }
    },
    {
      "cell_type": "code",
      "execution_count": 6,
      "metadata": {
        "colab": {
          "base_uri": "https://localhost:8080/"
        },
        "id": "4zfkDF5C867J",
        "outputId": "633da10f-ee52-490f-caa6-3547c23e1c30"
      },
      "outputs": [
        {
          "output_type": "stream",
          "name": "stdout",
          "text": [
            "[[1, 2, 3], [4, 5, 6]]\n",
            "[[1 2 3]\n",
            " [4 5 6]]\n"
          ]
        }
      ],
      "source": [
        "import numpy as np \n",
        "a = [[1,2,3],[4,5,6]]\n",
        "b = np.array(a)\n",
        "print(a)\n",
        "print(b)"
      ]
    },
    {
      "cell_type": "markdown",
      "source": [
        "#### 넘파이 배열의 기본정보 보는 방법\n"
      ],
      "metadata": {
        "id": "FnNP0TmC99W9"
      }
    },
    {
      "cell_type": "code",
      "source": [
        "print(b.ndim) #배열의 기본 차원 정보 \n",
        "print(b.shape)#배열의 모양 \n",
        "print(b[:,:-1]) \n",
        "print(len(b)) #행의 길이\n",
        "print(len(b[0]))#열의 길이\n",
        "print(b.size) #전체 데이터 개수\n",
        "print(b.dtype) # 데이터 타입\n",
        "b.astype(float) #넘파이 데이터 타입 변경\n"
      ],
      "metadata": {
        "colab": {
          "base_uri": "https://localhost:8080/"
        },
        "id": "IIqaipXX9bET",
        "outputId": "cd764e51-4cd8-4e58-eaa8-833d5956b111"
      },
      "execution_count": 7,
      "outputs": [
        {
          "output_type": "stream",
          "name": "stdout",
          "text": [
            "2\n",
            "(2, 3)\n",
            "[[1 2]\n",
            " [4 5]]\n",
            "2\n",
            "3\n",
            "6\n",
            "int64\n"
          ]
        },
        {
          "output_type": "execute_result",
          "data": {
            "text/plain": [
              "array([[1., 2., 3.],\n",
              "       [4., 5., 6.]])"
            ]
          },
          "metadata": {},
          "execution_count": 7
        }
      ]
    },
    {
      "cell_type": "markdown",
      "source": [
        "####배열 연산"
      ],
      "metadata": {
        "id": "aol1DjMDLXUn"
      }
    },
    {
      "cell_type": "code",
      "source": [
        "x = np.array([[1,2],[3,4]] , dtype = np.float64)\n",
        "y = np.array([[5,6],[7,8]],dtype=np.float64)\n",
        "\n",
        "print(np.add(x,y)) # 더하기\n",
        "print(np.subtract(x,y)) #빼기\n",
        "print(np.multiply(x,y)) #곱하기 \n",
        "print(np.divide(x,y)) #나누기\n",
        "print(np.sqrt(x)) #제곱근 \n",
        "print(np.log(x)) #log값\n",
        "print(np.exp(x)) #자연상수 값\n",
        "print(np.dot(x,y)) #행렬곱\n",
        "\n",
        "print(x==y) #행렬의 원소 비교 \n",
        "print(np.array_equal(x,y))"
      ],
      "metadata": {
        "colab": {
          "base_uri": "https://localhost:8080/"
        },
        "id": "hsdLzNYt-Ffl",
        "outputId": "064e96b7-0c86-4261-906b-3d9c0b280210"
      },
      "execution_count": 18,
      "outputs": [
        {
          "output_type": "stream",
          "name": "stdout",
          "text": [
            "[[ 6.  8.]\n",
            " [10. 12.]]\n",
            "[[-4. -4.]\n",
            " [-4. -4.]]\n",
            "[[ 5. 12.]\n",
            " [21. 32.]]\n",
            "[[0.2        0.33333333]\n",
            " [0.42857143 0.5       ]]\n",
            "[[1.         1.41421356]\n",
            " [1.73205081 2.        ]]\n",
            "[[0.         0.69314718]\n",
            " [1.09861229 1.38629436]]\n",
            "[[ 2.71828183  7.3890561 ]\n",
            " [20.08553692 54.59815003]]\n",
            "[[19. 22.]\n",
            " [43. 50.]]\n",
            "[[False False]\n",
            " [False False]]\n",
            "False\n"
          ]
        }
      ]
    },
    {
      "cell_type": "markdown",
      "source": [
        "#### 집계 함수"
      ],
      "metadata": {
        "id": "HCCz6as4KhWz"
      }
    },
    {
      "cell_type": "code",
      "source": [
        "print(x.sum())\n",
        "print(x.sum(axis = 0)) #열의 합계\n",
        "print(x.sum(axis = 1)) #행의 합계 \n",
        "\n",
        "\n",
        "print(x.min())\n",
        "print(x.min(axis = 0)) #열의 최소값\n",
        "print(x.min(axis = 1)) #행의 최소값\n",
        "\n",
        "print(x.max())\n",
        "print(x.max(axis = 0)) #열의 최대값\n",
        "print(x.max(axis = 1)) #행의 최대값"
      ],
      "metadata": {
        "id": "99cm2OPyUWL2",
        "colab": {
          "base_uri": "https://localhost:8080/"
        },
        "outputId": "814b97c8-a952-4a6e-e2fc-96b3dc48304a"
      },
      "execution_count": 24,
      "outputs": [
        {
          "output_type": "stream",
          "name": "stdout",
          "text": [
            "10.0\n",
            "[4. 6.]\n",
            "[3. 7.]\n",
            "1.0\n",
            "[1. 2.]\n",
            "[1. 3.]\n",
            "4.0\n",
            "[3. 4.]\n",
            "[2. 4.]\n"
          ]
        }
      ]
    },
    {
      "cell_type": "code",
      "source": [
        "print(x.cumsum())\n",
        "print(x.cumsum(axis = 0)) #열의 누적합\n",
        "print(x.cumsum(axis = 1)) #행의 누적합"
      ],
      "metadata": {
        "colab": {
          "base_uri": "https://localhost:8080/"
        },
        "id": "vmdurOfZKj9W",
        "outputId": "e989d14a-62ce-478b-d21c-1e18033439c6"
      },
      "execution_count": 25,
      "outputs": [
        {
          "output_type": "stream",
          "name": "stdout",
          "text": [
            "[ 1.  3.  6. 10.]\n",
            "[[1. 2.]\n",
            " [4. 6.]]\n",
            "[[1. 3.]\n",
            " [3. 7.]]\n"
          ]
        }
      ]
    },
    {
      "cell_type": "code",
      "source": [
        "print(np.mean(x))\n",
        "print(np.median(x))\n",
        "print(np.var(x))\n",
        "print(np.std(x))"
      ],
      "metadata": {
        "colab": {
          "base_uri": "https://localhost:8080/"
        },
        "id": "Dvi0FKDaisX-",
        "outputId": "d47a945f-b11b-4a88-e09a-eaa6069f480e"
      },
      "execution_count": 26,
      "outputs": [
        {
          "output_type": "stream",
          "name": "stdout",
          "text": [
            "2.5\n",
            "2.5\n",
            "1.25\n",
            "1.118033988749895\n"
          ]
        }
      ]
    },
    {
      "cell_type": "code",
      "source": [
        "c = np.array([1,2,3])\n",
        "d = np.array([[1,2,3],[4,5,6]])\n"
      ],
      "metadata": {
        "id": "VpOXmQOcjF5d"
      },
      "execution_count": 27,
      "outputs": []
    },
    {
      "cell_type": "code",
      "source": [
        "print(c[2])\n",
        "print(d[1,2])"
      ],
      "metadata": {
        "colab": {
          "base_uri": "https://localhost:8080/"
        },
        "id": "UDElO9WKjUAH",
        "outputId": "a1c9f10a-c6f3-4b57-8485-dc077d74ad58"
      },
      "execution_count": 28,
      "outputs": [
        {
          "output_type": "stream",
          "name": "stdout",
          "text": [
            "3\n",
            "6\n"
          ]
        }
      ]
    },
    {
      "cell_type": "code",
      "source": [
        "print(c[c<3]) #boolean 값으로 indexing \n"
      ],
      "metadata": {
        "colab": {
          "base_uri": "https://localhost:8080/"
        },
        "id": "uMtQKUvnjXTA",
        "outputId": "4e767af9-9022-4912-973d-bb8de6098b23"
      },
      "execution_count": 29,
      "outputs": [
        {
          "output_type": "stream",
          "name": "stdout",
          "text": [
            "[1 2]\n"
          ]
        }
      ]
    },
    {
      "cell_type": "code",
      "source": [
        "np.zeros([3,3]) # 3,3 짜리 0 인 데이터 numpy  "
      ],
      "metadata": {
        "colab": {
          "base_uri": "https://localhost:8080/"
        },
        "id": "Wd8RfjU3j-0a",
        "outputId": "c9ef8a4e-4858-42ec-e408-0f45b7cef50d"
      },
      "execution_count": 30,
      "outputs": [
        {
          "output_type": "execute_result",
          "data": {
            "text/plain": [
              "array([[0., 0., 0.],\n",
              "       [0., 0., 0.],\n",
              "       [0., 0., 0.]])"
            ]
          },
          "metadata": {},
          "execution_count": 30
        }
      ]
    },
    {
      "cell_type": "code",
      "source": [
        "np.ones([3,3]) # 3,3 짜리 전부 1인 데이터 numpy"
      ],
      "metadata": {
        "colab": {
          "base_uri": "https://localhost:8080/"
        },
        "id": "VlA9RUWLk8L6",
        "outputId": "83292d0c-77f7-4f74-9ccd-efdd844e8c5f"
      },
      "execution_count": 31,
      "outputs": [
        {
          "output_type": "execute_result",
          "data": {
            "text/plain": [
              "array([[1., 1., 1.],\n",
              "       [1., 1., 1.],\n",
              "       [1., 1., 1.]])"
            ]
          },
          "metadata": {},
          "execution_count": 31
        }
      ]
    },
    {
      "cell_type": "code",
      "source": [
        "np.arange(5) #해당 숫자 아래로 1차원 배열 생성\n",
        "np.arange(5,20,3) #stub 을 줘서 numpy 생성 가능 \n"
      ],
      "metadata": {
        "colab": {
          "base_uri": "https://localhost:8080/"
        },
        "id": "JtBR_5e0nifn",
        "outputId": "5c008b4e-13cc-4654-f2fb-439566abd834"
      },
      "execution_count": 35,
      "outputs": [
        {
          "output_type": "execute_result",
          "data": {
            "text/plain": [
              "array([ 5,  8, 11, 14, 17])"
            ]
          },
          "metadata": {},
          "execution_count": 35
        }
      ]
    },
    {
      "cell_type": "code",
      "source": [
        "np.linspace(0,2,9) #0 ~ 2 까지 9등분 하여 numpy 배열 생성                           "
      ],
      "metadata": {
        "colab": {
          "base_uri": "https://localhost:8080/"
        },
        "id": "SfeVcdP3oZCF",
        "outputId": "3dccef10-4823-4c7d-cb07-6d114898bc8d"
      },
      "execution_count": 36,
      "outputs": [
        {
          "output_type": "execute_result",
          "data": {
            "text/plain": [
              "array([0.  , 0.25, 0.5 , 0.75, 1.  , 1.25, 1.5 , 1.75, 2.  ])"
            ]
          },
          "metadata": {},
          "execution_count": 36
        }
      ]
    },
    {
      "cell_type": "code",
      "source": [
        "np.full([3,3],7) # 7로 3x3 넘파이 배열에 숫자 채우기"
      ],
      "metadata": {
        "colab": {
          "base_uri": "https://localhost:8080/"
        },
        "id": "2RiEUk0jpOtj",
        "outputId": "111629a0-556a-4aa6-b22d-e956cde33cdd"
      },
      "execution_count": 37,
      "outputs": [
        {
          "output_type": "execute_result",
          "data": {
            "text/plain": [
              "array([[7, 7, 7],\n",
              "       [7, 7, 7],\n",
              "       [7, 7, 7]])"
            ]
          },
          "metadata": {},
          "execution_count": 37
        }
      ]
    },
    {
      "cell_type": "code",
      "source": [
        "np.eye(2)"
      ],
      "metadata": {
        "colab": {
          "base_uri": "https://localhost:8080/"
        },
        "id": "iQoym56nveEU",
        "outputId": "55626f2e-ecf3-4f02-bb7f-bac998dbd43b"
      },
      "execution_count": 38,
      "outputs": [
        {
          "output_type": "execute_result",
          "data": {
            "text/plain": [
              "array([[1., 0.],\n",
              "       [0., 1.]])"
            ]
          },
          "metadata": {},
          "execution_count": 38
        }
      ]
    },
    {
      "cell_type": "code",
      "source": [
        "b = np.array([[1.5,2,3],[4,5,6]])\n",
        "\n",
        "print(np.transpose(b)) #행과 열을 바꾸는 전치 행렬 \n",
        "print(b.T)"
      ],
      "metadata": {
        "colab": {
          "base_uri": "https://localhost:8080/"
        },
        "id": "Ihg6zglPv5zE",
        "outputId": "a9875c57-b048-4e8d-b1a3-d03d75c1a31b"
      },
      "execution_count": 39,
      "outputs": [
        {
          "output_type": "stream",
          "name": "stdout",
          "text": [
            "[[1.5 4. ]\n",
            " [2.  5. ]\n",
            " [3.  6. ]]\n",
            "[[1.5 4. ]\n",
            " [2.  5. ]\n",
            " [3.  6. ]]\n"
          ]
        }
      ]
    },
    {
      "cell_type": "code",
      "source": [
        "print(b.ravel()) #1차원 배열로 나열하는 ravel"
      ],
      "metadata": {
        "colab": {
          "base_uri": "https://localhost:8080/"
        },
        "id": "Gvv4_2EtxV3N",
        "outputId": "7ff9d238-aa37-4a2d-b502-9d554431ab01"
      },
      "execution_count": 40,
      "outputs": [
        {
          "output_type": "stream",
          "name": "stdout",
          "text": [
            "[1.5 2.  3.  4.  5.  6. ]\n"
          ]
        }
      ]
    },
    {
      "cell_type": "code",
      "source": [
        "b.reshape([3,2])"
      ],
      "metadata": {
        "colab": {
          "base_uri": "https://localhost:8080/"
        },
        "id": "jRBBY2nLxdyC",
        "outputId": "e06656ac-9cb0-4f21-b307-d7212d76d75e"
      },
      "execution_count": 41,
      "outputs": [
        {
          "output_type": "execute_result",
          "data": {
            "text/plain": [
              "array([[1.5, 2. ],\n",
              "       [3. , 4. ],\n",
              "       [5. , 6. ]])"
            ]
          },
          "metadata": {},
          "execution_count": 41
        }
      ]
    },
    {
      "cell_type": "code",
      "source": [
        "np.vstack([x,y]) #numpy 와 numpy 배열 끼리 합치기 "
      ],
      "metadata": {
        "colab": {
          "base_uri": "https://localhost:8080/"
        },
        "id": "wTjUsMh3yjjF",
        "outputId": "d3201120-e00a-4b5d-b465-16b2b2c54e4d"
      },
      "execution_count": 42,
      "outputs": [
        {
          "output_type": "execute_result",
          "data": {
            "text/plain": [
              "array([[1., 2.],\n",
              "       [3., 4.],\n",
              "       [5., 6.],\n",
              "       [7., 8.]])"
            ]
          },
          "metadata": {},
          "execution_count": 42
        }
      ]
    },
    {
      "cell_type": "code",
      "source": [
        "np.c_[x,y]"
      ],
      "metadata": {
        "colab": {
          "base_uri": "https://localhost:8080/"
        },
        "id": "adD6xUfjyob8",
        "outputId": "e7327f44-a066-43fa-ecd3-9b06cc404994"
      },
      "execution_count": 43,
      "outputs": [
        {
          "output_type": "execute_result",
          "data": {
            "text/plain": [
              "array([[1., 2., 5., 6.],\n",
              "       [3., 4., 7., 8.]])"
            ]
          },
          "metadata": {},
          "execution_count": 43
        }
      ]
    },
    {
      "cell_type": "code",
      "source": [
        ""
      ],
      "metadata": {
        "id": "sbJnExeAyxgS"
      },
      "execution_count": null,
      "outputs": []
    }
  ]
}